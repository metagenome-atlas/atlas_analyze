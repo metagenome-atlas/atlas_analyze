{
 "cells": [
  {
   "cell_type": "code",
   "execution_count": null,
   "metadata": {},
   "outputs": [],
   "source": [
    "%matplotlib inline\n",
    "#%config InlineBackend.figure_format = 'retina' # on mac\n",
    "\n",
    "import pandas as pd\n",
    "import numpy as np\n",
    "import matplotlib.pyplot as plt\n",
    "\n",
    "import seaborn as sns\n",
    "\n",
    "from utils.mag_scripts import * \n",
    "from utils.barplots import * \n",
    "\n",
    "\n",
    "import altair as alt\n",
    "\n",
    "\n",
    "# supress warnings\n",
    "import warnings\n",
    "warnings.filterwarnings('ignore')"
   ]
  },
  {
   "cell_type": "markdown",
   "metadata": {},
   "source": [
    "Metagenome-atlas output summary\n",
    "===============================\n",
    "\n",
    "Here are some examples how to use the output of metagenome atlas. For repoducing this analyses see the jupter notebook Code.ipynb"
   ]
  },
  {
   "cell_type": "markdown",
   "metadata": {},
   "source": [
    "## Metagenome assembled genomes"
   ]
  },
  {
   "cell_type": "markdown",
   "metadata": {},
   "source": [
    "### Taxonomy"
   ]
  },
  {
   "cell_type": "code",
   "execution_count": null,
   "metadata": {},
   "outputs": [],
   "source": [
    "Tax= pd.read_table('Results/taxonomy.tsv',index_col=0)\n",
    "Tax"
   ]
  },
  {
   "cell_type": "code",
   "execution_count": null,
   "metadata": {},
   "outputs": [],
   "source": [
    "# create a short label for each species\n",
    "Labels=Tax.ffill(axis=1).species.copy()\n",
    "Labels.loc[Tax.species.isnull()]+= ' '+ Labels.index[Tax.species.isnull()]"
   ]
  },
  {
   "cell_type": "markdown",
   "metadata": {},
   "source": [
    "### Genome quality "
   ]
  },
  {
   "cell_type": "code",
   "execution_count": null,
   "metadata": {},
   "outputs": [],
   "source": [
    "genome_quality= pd.read_table('Results/genome_completeness.tsv',index_col=0)\n",
    "\n",
    "genome_quality['Quality_Score']= genome_quality.eval('Completeness -5*Contamination')\n",
    "genome_quality['Lineage']= genome_quality['Marker lineage'].map(lambda s: s.split()[0])\n",
    "\n",
    "genome_quality['Id']= genome_quality.index\n",
    "\n",
    "genome_quality= genome_quality.join(Tax)\n",
    "genome_quality['Name']= Labels"
   ]
  },
  {
   "cell_type": "code",
   "execution_count": null,
   "metadata": {},
   "outputs": [],
   "source": [
    "\n",
    "xscale = alt.Scale(domain=(0, 15))\n",
    "yscale = alt.Scale(domain=(50, 101))\n",
    "\n",
    "alt.Chart(genome_quality).mark_circle(opacity= .4).encode(\n",
    "    alt.X('Contamination', scale=xscale),\n",
    "    alt.Y('Completeness', scale=yscale),\n",
    "    color='phylum',\n",
    "    tooltip=['Name', 'Id', 'Contamination','Completeness' ]\n",
    ").interactive()"
   ]
  },
  {
   "cell_type": "markdown",
   "metadata": {},
   "source": [
    "## Abundance"
   ]
  },
  {
   "cell_type": "code",
   "execution_count": null,
   "metadata": {},
   "outputs": [],
   "source": [
    "Counts= pd.read_csv('Results/counts/raw_counts_genomes.tsv',index_col=0,sep='\\t').T\n",
    "Counts.head()"
   ]
  },
  {
   "cell_type": "markdown",
   "metadata": {},
   "source": [
    "### Mapping rate"
   ]
  },
  {
   "cell_type": "code",
   "execution_count": null,
   "metadata": {},
   "outputs": [],
   "source": [
    "mapping_rate = pd.read_table('Results/mapping_rate.tsv',index_col=0,squeeze=True)\n",
    "f,ax= plt.subplots(figsize=(2,4))\n",
    "ax.set_ylim([0,1])\n",
    "sns.swarmplot(y= mapping_rate,ax=ax)\n",
    "\n",
    "ax.set_title('Mapping rate')\n",
    "\n",
    "\n",
    "mapping_rate"
   ]
  },
  {
   "cell_type": "markdown",
   "metadata": {},
   "source": [
    "### Stats based on raw Counts\n",
    "\n",
    "There are good reasons to use rawcounts and use centric log ratios, see more in \n",
    "\n",
    "Gloor, Gregory B., Jean M. Macklaim, Vera Pawlowsky-Glahn, and Juan J. Egozcue. 2017. “Microbiome Datasets Are Compositional: And This Is Not Optional.” Frontiers in Microbiology 8 (November). Frontiers: 2224. doi:10.3389/fmicb.2017.02224.\n",
    "\n",
    "\n",
    "For differencial abundance analysis see also the same paper."
   ]
  },
  {
   "cell_type": "code",
   "execution_count": null,
   "metadata": {},
   "outputs": [],
   "source": [
    "# transforme counts with centrig log ratio\n",
    "\n",
    "data= clr(Counts)\n"
   ]
  },
  {
   "cell_type": "code",
   "execution_count": null,
   "metadata": {},
   "outputs": [],
   "source": [
    "sns.clustermap(data.T,\n",
    "            row_cluster=True,cmap='RdBu_r', center=0,\n",
    "             yticklabels= Labels,\n",
    "              )\n"
   ]
  },
  {
   "cell_type": "markdown",
   "metadata": {},
   "source": [
    "### PCA (PCoA) of the robust aitchison distance"
   ]
  },
  {
   "cell_type": "code",
   "execution_count": null,
   "metadata": {},
   "outputs": [],
   "source": [
    "from sklearn.decomposition import PCA\n",
    "\n",
    "pca= PCA()\n",
    "transformed_data= pca.fit_transform(data)\n"
   ]
  },
  {
   "cell_type": "code",
   "execution_count": null,
   "metadata": {},
   "outputs": [],
   "source": [
    "pca_data= pd.DataFrame()\n",
    "pca_data['PC 1']= transformed_data[:,0]\n",
    "pca_data['PC 2']= transformed_data[:,1]\n",
    "pca_data['Sample']= data.index\n",
    "\n",
    "\n",
    "\n",
    "alt.Chart(pca_data).mark_circle(size=60).encode(\n",
    "    x='PC 1',\n",
    "    y='PC 2',\n",
    "    tooltip=['Sample' ]\n",
    ").interactive()\n"
   ]
  },
  {
   "cell_type": "markdown",
   "metadata": {},
   "source": [
    "## Relative abundance\n",
    "\n",
    "\n",
    "For the relative abundance we take the coverage over the genome not the raw counts. This inmplicit normalizes for genome size. The coverage is calculated as the median of the coverage values calculated in 1kb blocks."
   ]
  },
  {
   "cell_type": "code",
   "execution_count": null,
   "metadata": {},
   "outputs": [],
   "source": [
    "D = pd.read_table(\"Results/counts/median_coverage_genomes.tsv\",index_col=0)\n",
    "D.head()"
   ]
  },
  {
   "cell_type": "code",
   "execution_count": null,
   "metadata": {},
   "outputs": [],
   "source": [
    "#calculate relative abundance\n",
    "\n",
    "relab = (D.T/D.sum(1)).T"
   ]
  },
  {
   "cell_type": "code",
   "execution_count": null,
   "metadata": {},
   "outputs": [],
   "source": [
    "# get most abundant genomes\n",
    "\n",
    "counts_per_genome= relab.sum().sort_values()\n",
    "ax= counts_per_genome[-10:].plot.bar(figsize=(10,5))\n",
    "\n",
    "_= ax.set_xticklabels(Labels.loc[counts_per_genome.index[-10:]])\n",
    "ax.set_title('Most abundant genomes')\n",
    "ax.set_ylabel('Abundance [relab]')"
   ]
  },
  {
   "cell_type": "markdown",
   "metadata": {},
   "source": [
    "### Typical bar chart"
   ]
  },
  {
   "cell_type": "code",
   "execution_count": null,
   "metadata": {},
   "outputs": [],
   "source": [
    "\n",
    "level='family'\n",
    "\n",
    "grouped_data =relab.groupby(Tax[level],axis=1).sum()\n",
    "\n",
    "ax= BarPlot(grouped_data)\n",
    "\n",
    "ax.legend_.set_title(level,{'weight':'bold'})\n"
   ]
  },
  {
   "cell_type": "markdown",
   "metadata": {},
   "source": [
    "## Functional annotation\n",
    "\n",
    "\n",
    "Relative abundance of functional annotations per sample\n",
    "\n",
    "The abundance is calculated as the sum of the relative abundance of all bacteria containing a function."
   ]
  },
  {
   "cell_type": "markdown",
   "metadata": {},
   "source": [
    "### CAZy"
   ]
  },
  {
   "cell_type": "code",
   "execution_count": null,
   "metadata": {},
   "outputs": [],
   "source": [
    "#CAZy\n",
    "CAZy_annotations_genome= pd.read_table('Results/annotations/CAZy.tsv',index_col=0)\n",
    "CAZy_presence= (CAZy_annotations_genome>0).astype(int)\n",
    "CAZy_presence.head()\n",
    "\n",
    "\n",
    "function_relab = relab @ CAZy_presence\n",
    "\n",
    "sns.clustermap(function_relab)\n",
    "\n",
    "function_relab.head()"
   ]
  },
  {
   "cell_type": "markdown",
   "metadata": {},
   "source": [
    "### Kegg orthologs"
   ]
  },
  {
   "cell_type": "code",
   "execution_count": null,
   "metadata": {},
   "outputs": [],
   "source": [
    "#Kegg orthologs\n",
    "\n",
    "Kegg_annotations_genome= pd.read_table('Results/annotations/KO.tsv',index_col=0)\n",
    "Kegg_presence= (Kegg_annotations_genome>0).astype(int)\n",
    "Kegg_presence.head()\n",
    "\n",
    "\n",
    "function_relab = relab @ Kegg_presence\n",
    "\n",
    "sns.clustermap(function_relab)\n",
    "\n",
    "function_relab.head()"
   ]
  },
  {
   "cell_type": "code",
   "execution_count": null,
   "metadata": {},
   "outputs": [],
   "source": []
  }
 ],
 "metadata": {
  "kernelspec": {
   "display_name": "Python 3",
   "language": "python",
   "name": "python3"
  },
  "language_info": {
   "codemirror_mode": {
    "name": "ipython",
    "version": 3
   },
   "file_extension": ".py",
   "mimetype": "text/x-python",
   "name": "python",
   "nbconvert_exporter": "python",
   "pygments_lexer": "ipython3",
   "version": "3.6.7"
  }
 },
 "nbformat": 4,
 "nbformat_minor": 4
}
