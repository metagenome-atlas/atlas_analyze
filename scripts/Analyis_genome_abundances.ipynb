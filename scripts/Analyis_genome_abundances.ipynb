{
 "cells": [
  {
   "cell_type": "code",
   "execution_count": 299,
   "metadata": {},
   "outputs": [],
   "source": [
    "%matplotlib inline\n",
    "#%config InlineBackend.figure_format = 'retina' # on mac\n",
    "\n",
    "import pandas as pd\n",
    "import numpy as np\n",
    "import matplotlib.pyplot as plt\n",
    "\n",
    "import seaborn as sns\n",
    "\n",
    "from utils.mag_scripts import * \n",
    "from utils.barplots import * \n",
    "\n",
    "\n",
    "import altair as alt"
   ]
  },
  {
   "cell_type": "code",
   "execution_count": 257,
   "metadata": {},
   "outputs": [],
   "source": [
    "working_dir='.'"
   ]
  },
  {
   "cell_type": "markdown",
   "metadata": {},
   "source": [
    "### Load Taxonomy"
   ]
  },
  {
   "cell_type": "code",
   "execution_count": 258,
   "metadata": {},
   "outputs": [
    {
     "data": {
      "text/html": [
       "<div>\n",
       "<style scoped>\n",
       "    .dataframe tbody tr th:only-of-type {\n",
       "        vertical-align: middle;\n",
       "    }\n",
       "\n",
       "    .dataframe tbody tr th {\n",
       "        vertical-align: top;\n",
       "    }\n",
       "\n",
       "    .dataframe thead th {\n",
       "        text-align: right;\n",
       "    }\n",
       "</style>\n",
       "<table border=\"1\" class=\"dataframe\">\n",
       "  <thead>\n",
       "    <tr style=\"text-align: right;\">\n",
       "      <th></th>\n",
       "      <th>classification</th>\n",
       "      <th>fastani_reference</th>\n",
       "      <th>fastani_reference_radius</th>\n",
       "      <th>fastani_taxonomy</th>\n",
       "      <th>fastani_ani</th>\n",
       "      <th>fastani_af</th>\n",
       "      <th>closest_placement_reference</th>\n",
       "      <th>closest_placement_taxonomy</th>\n",
       "      <th>closest_placement_ani</th>\n",
       "      <th>closest_placement_af</th>\n",
       "      <th>pplacer_taxonomy</th>\n",
       "      <th>classification_method</th>\n",
       "      <th>note</th>\n",
       "      <th>other_related_references(genome_id,species_name,radius,ANI,AF)</th>\n",
       "      <th>aa_percent</th>\n",
       "      <th>translation_table</th>\n",
       "      <th>red_value</th>\n",
       "      <th>warnings</th>\n",
       "    </tr>\n",
       "    <tr>\n",
       "      <th>user_genome</th>\n",
       "      <th></th>\n",
       "      <th></th>\n",
       "      <th></th>\n",
       "      <th></th>\n",
       "      <th></th>\n",
       "      <th></th>\n",
       "      <th></th>\n",
       "      <th></th>\n",
       "      <th></th>\n",
       "      <th></th>\n",
       "      <th></th>\n",
       "      <th></th>\n",
       "      <th></th>\n",
       "      <th></th>\n",
       "      <th></th>\n",
       "      <th></th>\n",
       "      <th></th>\n",
       "      <th></th>\n",
       "    </tr>\n",
       "  </thead>\n",
       "  <tbody>\n",
       "    <tr>\n",
       "      <th>MAG2</th>\n",
       "      <td>d__Bacteria;p__Firmicutes;c__Bacilli;o__Lactob...</td>\n",
       "      <td>GCF_000014485.1</td>\n",
       "      <td>95.0</td>\n",
       "      <td>d__Bacteria;p__Firmicutes;c__Bacilli;o__Lactob...</td>\n",
       "      <td>99.08</td>\n",
       "      <td>0.92</td>\n",
       "      <td>GCF_000014485.1</td>\n",
       "      <td>d__Bacteria;p__Firmicutes;c__Bacilli;o__Lactob...</td>\n",
       "      <td>99.08</td>\n",
       "      <td>0.92</td>\n",
       "      <td>d__Bacteria;p__Firmicutes;c__Bacilli;o__Lactob...</td>\n",
       "      <td>ANI/Placement</td>\n",
       "      <td>topological placement and ANI have congruent s...</td>\n",
       "      <td>GCF_000188295.1, s__Streptococcus vestibularis...</td>\n",
       "      <td>98.29</td>\n",
       "      <td>11</td>\n",
       "      <td>NaN</td>\n",
       "      <td>NaN</td>\n",
       "    </tr>\n",
       "    <tr>\n",
       "      <th>MAG1</th>\n",
       "      <td>d__Bacteria;p__Firmicutes;c__Bacilli;o__Mycopl...</td>\n",
       "      <td>GCF_000383515.1</td>\n",
       "      <td>95.0</td>\n",
       "      <td>d__Bacteria;p__Firmicutes;c__Bacilli;o__Mycopl...</td>\n",
       "      <td>99.71</td>\n",
       "      <td>0.99</td>\n",
       "      <td>GCF_000383515.1</td>\n",
       "      <td>d__Bacteria;p__Firmicutes;c__Bacilli;o__Mycopl...</td>\n",
       "      <td>99.71</td>\n",
       "      <td>0.99</td>\n",
       "      <td>d__Bacteria;p__Firmicutes;c__Bacilli;o__Mycopl...</td>\n",
       "      <td>ANI/Placement</td>\n",
       "      <td>topological placement and ANI have congruent s...</td>\n",
       "      <td>NaN</td>\n",
       "      <td>75.08</td>\n",
       "      <td>4</td>\n",
       "      <td>NaN</td>\n",
       "      <td>NaN</td>\n",
       "    </tr>\n",
       "    <tr>\n",
       "      <th>MAG3</th>\n",
       "      <td>d__Bacteria;p__Firmicutes;c__Bacilli;o__Mycopl...</td>\n",
       "      <td>GCF_000169535.1</td>\n",
       "      <td>95.0</td>\n",
       "      <td>d__Bacteria;p__Firmicutes;c__Bacilli;o__Mycopl...</td>\n",
       "      <td>99.50</td>\n",
       "      <td>1.00</td>\n",
       "      <td>GCF_000169535.1</td>\n",
       "      <td>d__Bacteria;p__Firmicutes;c__Bacilli;o__Mycopl...</td>\n",
       "      <td>99.50</td>\n",
       "      <td>1.00</td>\n",
       "      <td>d__Bacteria;p__Firmicutes;c__Bacilli;o__Mycopl...</td>\n",
       "      <td>ANI/Placement</td>\n",
       "      <td>topological placement and ANI have congruent s...</td>\n",
       "      <td>GCF_000019345.1, s__Ureaplasma parvum, 95.0, 8...</td>\n",
       "      <td>77.02</td>\n",
       "      <td>4</td>\n",
       "      <td>NaN</td>\n",
       "      <td>NaN</td>\n",
       "    </tr>\n",
       "  </tbody>\n",
       "</table>\n",
       "</div>"
      ],
      "text/plain": [
       "                                                classification  \\\n",
       "user_genome                                                      \n",
       "MAG2         d__Bacteria;p__Firmicutes;c__Bacilli;o__Lactob...   \n",
       "MAG1         d__Bacteria;p__Firmicutes;c__Bacilli;o__Mycopl...   \n",
       "MAG3         d__Bacteria;p__Firmicutes;c__Bacilli;o__Mycopl...   \n",
       "\n",
       "            fastani_reference  fastani_reference_radius  \\\n",
       "user_genome                                               \n",
       "MAG2          GCF_000014485.1                      95.0   \n",
       "MAG1          GCF_000383515.1                      95.0   \n",
       "MAG3          GCF_000169535.1                      95.0   \n",
       "\n",
       "                                              fastani_taxonomy  fastani_ani  \\\n",
       "user_genome                                                                   \n",
       "MAG2         d__Bacteria;p__Firmicutes;c__Bacilli;o__Lactob...        99.08   \n",
       "MAG1         d__Bacteria;p__Firmicutes;c__Bacilli;o__Mycopl...        99.71   \n",
       "MAG3         d__Bacteria;p__Firmicutes;c__Bacilli;o__Mycopl...        99.50   \n",
       "\n",
       "             fastani_af closest_placement_reference  \\\n",
       "user_genome                                           \n",
       "MAG2               0.92             GCF_000014485.1   \n",
       "MAG1               0.99             GCF_000383515.1   \n",
       "MAG3               1.00             GCF_000169535.1   \n",
       "\n",
       "                                    closest_placement_taxonomy  \\\n",
       "user_genome                                                      \n",
       "MAG2         d__Bacteria;p__Firmicutes;c__Bacilli;o__Lactob...   \n",
       "MAG1         d__Bacteria;p__Firmicutes;c__Bacilli;o__Mycopl...   \n",
       "MAG3         d__Bacteria;p__Firmicutes;c__Bacilli;o__Mycopl...   \n",
       "\n",
       "             closest_placement_ani  closest_placement_af  \\\n",
       "user_genome                                                \n",
       "MAG2                         99.08                  0.92   \n",
       "MAG1                         99.71                  0.99   \n",
       "MAG3                         99.50                  1.00   \n",
       "\n",
       "                                              pplacer_taxonomy  \\\n",
       "user_genome                                                      \n",
       "MAG2         d__Bacteria;p__Firmicutes;c__Bacilli;o__Lactob...   \n",
       "MAG1         d__Bacteria;p__Firmicutes;c__Bacilli;o__Mycopl...   \n",
       "MAG3         d__Bacteria;p__Firmicutes;c__Bacilli;o__Mycopl...   \n",
       "\n",
       "            classification_method  \\\n",
       "user_genome                         \n",
       "MAG2                ANI/Placement   \n",
       "MAG1                ANI/Placement   \n",
       "MAG3                ANI/Placement   \n",
       "\n",
       "                                                          note  \\\n",
       "user_genome                                                      \n",
       "MAG2         topological placement and ANI have congruent s...   \n",
       "MAG1         topological placement and ANI have congruent s...   \n",
       "MAG3         topological placement and ANI have congruent s...   \n",
       "\n",
       "            other_related_references(genome_id,species_name,radius,ANI,AF)  \\\n",
       "user_genome                                                                  \n",
       "MAG2         GCF_000188295.1, s__Streptococcus vestibularis...               \n",
       "MAG1                                                       NaN               \n",
       "MAG3         GCF_000019345.1, s__Ureaplasma parvum, 95.0, 8...               \n",
       "\n",
       "             aa_percent  translation_table  red_value  warnings  \n",
       "user_genome                                                      \n",
       "MAG2              98.29                 11        NaN       NaN  \n",
       "MAG1              75.08                  4        NaN       NaN  \n",
       "MAG3              77.02                  4        NaN       NaN  "
      ]
     },
     "metadata": {},
     "output_type": "display_data"
    },
    {
     "data": {
      "text/html": [
       "<div>\n",
       "<style scoped>\n",
       "    .dataframe tbody tr th:only-of-type {\n",
       "        vertical-align: middle;\n",
       "    }\n",
       "\n",
       "    .dataframe tbody tr th {\n",
       "        vertical-align: top;\n",
       "    }\n",
       "\n",
       "    .dataframe thead th {\n",
       "        text-align: right;\n",
       "    }\n",
       "</style>\n",
       "<table border=\"1\" class=\"dataframe\">\n",
       "  <thead>\n",
       "    <tr style=\"text-align: right;\">\n",
       "      <th></th>\n",
       "      <th>kindom</th>\n",
       "      <th>phylum</th>\n",
       "      <th>class</th>\n",
       "      <th>order</th>\n",
       "      <th>family</th>\n",
       "      <th>genus</th>\n",
       "      <th>species</th>\n",
       "    </tr>\n",
       "    <tr>\n",
       "      <th>user_genome</th>\n",
       "      <th></th>\n",
       "      <th></th>\n",
       "      <th></th>\n",
       "      <th></th>\n",
       "      <th></th>\n",
       "      <th></th>\n",
       "      <th></th>\n",
       "    </tr>\n",
       "  </thead>\n",
       "  <tbody>\n",
       "    <tr>\n",
       "      <th>MAG2</th>\n",
       "      <td>Bacteria</td>\n",
       "      <td>Firmicutes</td>\n",
       "      <td>Bacilli</td>\n",
       "      <td>Lactobacillales</td>\n",
       "      <td>Streptococcaceae</td>\n",
       "      <td>Streptococcus</td>\n",
       "      <td>Streptococcus thermophilus</td>\n",
       "    </tr>\n",
       "    <tr>\n",
       "      <th>MAG1</th>\n",
       "      <td>Bacteria</td>\n",
       "      <td>Firmicutes</td>\n",
       "      <td>Bacilli</td>\n",
       "      <td>Mycoplasmatales</td>\n",
       "      <td>Metamycoplasmataceae</td>\n",
       "      <td>Mesomycoplasma</td>\n",
       "      <td>Mesomycoplasma hyorhinis</td>\n",
       "    </tr>\n",
       "    <tr>\n",
       "      <th>MAG3</th>\n",
       "      <td>Bacteria</td>\n",
       "      <td>Firmicutes</td>\n",
       "      <td>Bacilli</td>\n",
       "      <td>Mycoplasmatales</td>\n",
       "      <td>Mycoplasmoidaceae</td>\n",
       "      <td>Ureaplasma</td>\n",
       "      <td>Ureaplasma urealyticum</td>\n",
       "    </tr>\n",
       "  </tbody>\n",
       "</table>\n",
       "</div>"
      ],
      "text/plain": [
       "               kindom      phylum    class            order  \\\n",
       "user_genome                                                   \n",
       "MAG2         Bacteria  Firmicutes  Bacilli  Lactobacillales   \n",
       "MAG1         Bacteria  Firmicutes  Bacilli  Mycoplasmatales   \n",
       "MAG3         Bacteria  Firmicutes  Bacilli  Mycoplasmatales   \n",
       "\n",
       "                           family           genus                     species  \n",
       "user_genome                                                                    \n",
       "MAG2             Streptococcaceae   Streptococcus  Streptococcus thermophilus  \n",
       "MAG1         Metamycoplasmataceae  Mesomycoplasma    Mesomycoplasma hyorhinis  \n",
       "MAG3            Mycoplasmoidaceae      Ureaplasma      Ureaplasma urealyticum  "
      ]
     },
     "execution_count": 258,
     "metadata": {},
     "output_type": "execute_result"
    }
   ],
   "source": [
    "DT= pd.read_table(f'{working_dir}/genomes/taxonomy/gtdb/gtdbtk.bac120.summary.tsv',index_col=0)\n",
    "\n",
    "display(DT.head())\n",
    "\n",
    "\n",
    "Tax= tax2table(DT.classification, remove_prefix=True)\n",
    "Tax.head()\n"
   ]
  },
  {
   "cell_type": "code",
   "execution_count": 259,
   "metadata": {},
   "outputs": [],
   "source": [
    "# create a short label for each species\n",
    "Labels=Tax.ffill(axis=1).species.copy()\n",
    "Labels.loc[Tax.species.isnull()]+= ' '+ Labels.index[Tax.species.isnull()]"
   ]
  },
  {
   "cell_type": "markdown",
   "metadata": {},
   "source": [
    "# Genome quality "
   ]
  },
  {
   "cell_type": "code",
   "execution_count": 314,
   "metadata": {},
   "outputs": [],
   "source": [
    "genome_quality= pd.read_table(f'{working_dir}/genomes/checkm/completeness.tsv',index_col=0)\n",
    "\n",
    "genome_quality['Quality_Score']= genome_quality.eval('Completeness -5*Contamination')\n",
    "genome_quality['Lineage']= genome_quality['Marker lineage'].map(lambda s: s.split()[0])\n",
    "\n",
    "genome_quality['Id']= genome_quality.index\n",
    "\n",
    "genome_quality= genome_quality.join(Tax)\n",
    "genome_quality['Name']= Labels"
   ]
  },
  {
   "cell_type": "code",
   "execution_count": 315,
   "metadata": {},
   "outputs": [
    {
     "data": {
      "text/html": [
       "\n",
       "<div id=\"altair-viz-33\"></div>\n",
       "<script type=\"text/javascript\">\n",
       "  (function(spec, embedOpt){\n",
       "    const outputDiv = document.getElementById(\"altair-viz-33\");\n",
       "    const paths = {\n",
       "      \"vega\": \"https://cdn.jsdelivr.net/npm//vega@5?noext\",\n",
       "      \"vega-lib\": \"https://cdn.jsdelivr.net/npm//vega-lib?noext\",\n",
       "      \"vega-lite\": \"https://cdn.jsdelivr.net/npm//vega-lite@4.0.0?noext\",\n",
       "      \"vega-embed\": \"https://cdn.jsdelivr.net/npm//vega-embed@6?noext\",\n",
       "    };\n",
       "\n",
       "    function loadScript(lib) {\n",
       "      return new Promise(function(resolve, reject) {\n",
       "        var s = document.createElement('script');\n",
       "        s.src = paths[lib];\n",
       "        s.async = true;\n",
       "        s.onload = () => resolve(paths[lib]);\n",
       "        s.onerror = () => reject(`Error loading script: ${paths[lib]}`);\n",
       "        document.getElementsByTagName(\"head\")[0].appendChild(s);\n",
       "      });\n",
       "    }\n",
       "\n",
       "    function showError(err) {\n",
       "      outputDiv.innerHTML = `<div class=\"error\" style=\"color:red;\">${err}</div>`;\n",
       "      throw err;\n",
       "    }\n",
       "\n",
       "    function displayChart(vegaEmbed) {\n",
       "      vegaEmbed(outputDiv, spec, embedOpt)\n",
       "        .catch(err => showError(`Javascript Error: ${err.message}<br>This usually means there's a typo in your chart specification. See the javascript console for the full traceback.`));\n",
       "    }\n",
       "\n",
       "    if(typeof define === \"function\" && define.amd) {\n",
       "      requirejs.config({paths});\n",
       "      require([\"vega-embed\"], displayChart, err => showError(`Error loading script: ${err.message}`));\n",
       "    } else if (typeof vegaEmbed === \"function\") {\n",
       "      displayChart(vegaEmbed);\n",
       "    } else {\n",
       "      loadScript(\"vega\")\n",
       "        .then(() => loadScript(\"vega-lite\"))\n",
       "        .then(() => loadScript(\"vega-embed\"))\n",
       "        .catch(showError)\n",
       "        .then(() => displayChart(vegaEmbed));\n",
       "    }\n",
       "  })({\"config\": {\"view\": {\"continuousWidth\": 400, \"continuousHeight\": 300}}, \"data\": {\"name\": \"data-e1e4b7b6ab3ff219aa9a02f4497eabe0\"}, \"mark\": {\"type\": \"circle\", \"opacity\": 0.4}, \"encoding\": {\"color\": {\"type\": \"nominal\", \"field\": \"phylum\"}, \"tooltip\": [{\"type\": \"nominal\", \"field\": \"Name\"}, {\"type\": \"nominal\", \"field\": \"Id\"}, {\"type\": \"quantitative\", \"field\": \"Contamination\"}, {\"type\": \"quantitative\", \"field\": \"Completeness\"}], \"x\": {\"type\": \"quantitative\", \"field\": \"Contamination\", \"scale\": {\"domain\": [0, 15]}}, \"y\": {\"type\": \"quantitative\", \"field\": \"Completeness\", \"scale\": {\"domain\": [50, 101]}}}, \"selection\": {\"selector021\": {\"type\": \"interval\", \"bind\": \"scales\", \"encodings\": [\"x\", \"y\"]}}, \"$schema\": \"https://vega.github.io/schema/vega-lite/v4.0.0.json\", \"datasets\": {\"data-e1e4b7b6ab3ff219aa9a02f4497eabe0\": [{\"Marker lineage\": \"g__Mycoplasma (UID2426)\", \"# genomes\": 42, \"# markers\": 258, \"# marker sets\": 138, \"0\": 0, \"1\": 258, \"2\": 0, \"3\": 0, \"4\": 0, \"5+\": 0, \"Completeness\": 100.0, \"Contamination\": 0.0, \"Strain heterogeneity\": 0.0, \"Quality_Score\": 100.0, \"Lineage\": \"g__Mycoplasma\", \"Id\": \"MAG1\", \"kindom\": \"Bacteria\", \"phylum\": \"Firmicutes\", \"class\": \"Bacilli\", \"order\": \"Mycoplasmatales\", \"family\": \"Metamycoplasmataceae\", \"genus\": \"Mesomycoplasma\", \"species\": \"Mesomycoplasma hyorhinis\", \"Name\": \"Mesomycoplasma hyorhinis\"}, {\"Marker lineage\": \"g__Streptococcus (UID684)\", \"# genomes\": 26, \"# markers\": 668, \"# marker sets\": 229, \"0\": 1, \"1\": 666, \"2\": 1, \"3\": 0, \"4\": 0, \"5+\": 0, \"Completeness\": 99.89, \"Contamination\": 0.15, \"Strain heterogeneity\": 0.0, \"Quality_Score\": 99.14, \"Lineage\": \"g__Streptococcus\", \"Id\": \"MAG2\", \"kindom\": \"Bacteria\", \"phylum\": \"Firmicutes\", \"class\": \"Bacilli\", \"order\": \"Lactobacillales\", \"family\": \"Streptococcaceae\", \"genus\": \"Streptococcus\", \"species\": \"Streptococcus thermophilus\", \"Name\": \"Streptococcus thermophilus\"}, {\"Marker lineage\": \"f__Mycoplasmataceae (UID2466)\", \"# genomes\": 36, \"# markers\": 295, \"# marker sets\": 140, \"0\": 6, \"1\": 289, \"2\": 0, \"3\": 0, \"4\": 0, \"5+\": 0, \"Completeness\": 97.62, \"Contamination\": 0.0, \"Strain heterogeneity\": 0.0, \"Quality_Score\": 97.62, \"Lineage\": \"f__Mycoplasmataceae\", \"Id\": \"MAG3\", \"kindom\": \"Bacteria\", \"phylum\": \"Firmicutes\", \"class\": \"Bacilli\", \"order\": \"Mycoplasmatales\", \"family\": \"Mycoplasmoidaceae\", \"genus\": \"Ureaplasma\", \"species\": \"Ureaplasma urealyticum\", \"Name\": \"Ureaplasma urealyticum\"}]}}, {\"mode\": \"vega-lite\"});\n",
       "</script>"
      ],
      "text/plain": [
       "alt.Chart(...)"
      ]
     },
     "execution_count": 315,
     "metadata": {},
     "output_type": "execute_result"
    }
   ],
   "source": [
    "\n",
    "xscale = alt.Scale(domain=(0, 15))\n",
    "yscale = alt.Scale(domain=(50, 101))\n",
    "\n",
    "alt.Chart(genome_quality).mark_circle(opacity= .4).encode(\n",
    "    alt.X('Contamination', scale=xscale),\n",
    "    alt.Y('Completeness', scale=yscale),\n",
    "    color='phylum',\n",
    "    tooltip=['Name', 'Id', 'Contamination','Completeness' ]\n",
    ").interactive()"
   ]
  },
  {
   "cell_type": "markdown",
   "metadata": {},
   "source": [
    "# Count data"
   ]
  },
  {
   "cell_type": "code",
   "execution_count": 263,
   "metadata": {},
   "outputs": [
    {
     "data": {
      "text/html": [
       "<div>\n",
       "<style scoped>\n",
       "    .dataframe tbody tr th:only-of-type {\n",
       "        vertical-align: middle;\n",
       "    }\n",
       "\n",
       "    .dataframe tbody tr th {\n",
       "        vertical-align: top;\n",
       "    }\n",
       "\n",
       "    .dataframe thead th {\n",
       "        text-align: right;\n",
       "    }\n",
       "</style>\n",
       "<table border=\"1\" class=\"dataframe\">\n",
       "  <thead>\n",
       "    <tr style=\"text-align: right;\">\n",
       "      <th>Sample</th>\n",
       "      <th>MAG1</th>\n",
       "      <th>MAG2</th>\n",
       "      <th>MAG3</th>\n",
       "    </tr>\n",
       "  </thead>\n",
       "  <tbody>\n",
       "    <tr>\n",
       "      <th>sample1</th>\n",
       "      <td>926872</td>\n",
       "      <td>96617</td>\n",
       "      <td>0</td>\n",
       "    </tr>\n",
       "    <tr>\n",
       "      <th>sample2</th>\n",
       "      <td>92904</td>\n",
       "      <td>966225</td>\n",
       "      <td>88302</td>\n",
       "    </tr>\n",
       "  </tbody>\n",
       "</table>\n",
       "</div>"
      ],
      "text/plain": [
       "Sample     MAG1    MAG2   MAG3\n",
       "sample1  926872   96617      0\n",
       "sample2   92904  966225  88302"
      ]
     },
     "execution_count": 263,
     "metadata": {},
     "output_type": "execute_result"
    }
   ],
   "source": [
    "Counts= pd.read_csv(f'{working_dir}/genomes/counts/raw_counts_genomes.tsv',index_col=0,sep='\\t')\n",
    "Counts=Counts.T\n",
    "Counts.head()"
   ]
  },
  {
   "cell_type": "markdown",
   "metadata": {},
   "source": [
    "## Mapping rate"
   ]
  },
  {
   "cell_type": "code",
   "execution_count": 264,
   "metadata": {},
   "outputs": [
    {
     "data": {
      "text/plain": [
       "sample1    0.967364\n",
       "sample2    0.965563\n",
       "dtype: float64"
      ]
     },
     "execution_count": 264,
     "metadata": {},
     "output_type": "execute_result"
    },
    {
     "data": {
      "image/png": "[encoded data removed]",
      "text/plain": [
       "<Figure size 144x288 with 1 Axes>"
      ]
     },
     "metadata": {
      "image/png": {
       "height": 253,
       "width": 148
      },
      "needs_background": "light"
     },
     "output_type": "display_data"
    }
   ],
   "source": [
    "Nreads= pd.read_table('../WD/stats/read_counts.tsv', index_col=[0,1])\n",
    "\n",
    "mapping_rate =  Counts.sum(1)/( 2* Nreads.Total_Reads.unstack().QC)\n",
    "\n",
    "f,ax= plt.subplots(figsize=(2,4))\n",
    "ax.set_ylim([0.5,1])\n",
    "sns.swarmplot(y= mapping_rate,ax=ax)\n",
    "\n",
    "ax.set_title('Mapping rate')\n",
    "\n",
    "\n",
    "mapping_rate"
   ]
  },
  {
   "cell_type": "markdown",
   "metadata": {},
   "source": [
    "## Stats based on raw Counts\n",
    "\n",
    "There are good reasons to use rawcounts and use centric log ratios, see more in \n",
    "\n",
    "Gloor, Gregory B., Jean M. Macklaim, Vera Pawlowsky-Glahn, and Juan J. Egozcue. 2017. “Microbiome Datasets Are Compositional: And This Is Not Optional.” Frontiers in Microbiology 8 (November). Frontiers: 2224. doi:10.3389/fmicb.2017.02224.\n",
    "\n",
    "\n",
    "For differencial abundance analysis see also the same paper."
   ]
  },
  {
   "cell_type": "markdown",
   "metadata": {},
   "source": [
    "Raw counts samples x MAGs "
   ]
  },
  {
   "cell_type": "markdown",
   "metadata": {},
   "source": [
    "# transforme counts\n",
    "\n",
    "centrig log ratio"
   ]
  },
  {
   "cell_type": "code",
   "execution_count": 316,
   "metadata": {},
   "outputs": [],
   "source": [
    "data= clr(Counts)\n"
   ]
  },
  {
   "cell_type": "code",
   "execution_count": 317,
   "metadata": {},
   "outputs": [
    {
     "data": {
      "text/plain": [
       "<seaborn.matrix.ClusterGrid at 0x1a34af6198>"
      ]
     },
     "execution_count": 317,
     "metadata": {},
     "output_type": "execute_result"
    },
    {
     "data": {
      "image/png": "[encoded data removed]",
      "text/plain": [
       "<Figure size 720x720 with 4 Axes>"
      ]
     },
     "metadata": {
      "image/png": {
       "height": 605,
       "width": 602
      },
      "needs_background": "light"
     },
     "output_type": "display_data"
    }
   ],
   "source": [
    "sns.clustermap(data.T,\n",
    "            row_cluster=True,cmap='RdBu_r', center=0,\n",
    "             yticklabels= Labels,\n",
    "              )\n"
   ]
  },
  {
   "cell_type": "markdown",
   "metadata": {},
   "source": [
    "# PCA (PCoA) of the robust aitchison distance"
   ]
  },
  {
   "cell_type": "code",
   "execution_count": 267,
   "metadata": {},
   "outputs": [],
   "source": [
    "from sklearn.decomposition import PCA\n",
    "\n",
    "pca= PCA()\n",
    "transformed_data= pca.fit_transform(data)\n"
   ]
  },
  {
   "cell_type": "code",
   "execution_count": 268,
   "metadata": {},
   "outputs": [
    {
     "data": {
      "text/html": [
       "\n",
       "<div id=\"altair-viz-22\"></div>\n",
       "<script type=\"text/javascript\">\n",
       "  (function(spec, embedOpt){\n",
       "    const outputDiv = document.getElementById(\"altair-viz-22\");\n",
       "    const paths = {\n",
       "      \"vega\": \"https://cdn.jsdelivr.net/npm//vega@5?noext\",\n",
       "      \"vega-lib\": \"https://cdn.jsdelivr.net/npm//vega-lib?noext\",\n",
       "      \"vega-lite\": \"https://cdn.jsdelivr.net/npm//vega-lite@4.0.0?noext\",\n",
       "      \"vega-embed\": \"https://cdn.jsdelivr.net/npm//vega-embed@6?noext\",\n",
       "    };\n",
       "\n",
       "    function loadScript(lib) {\n",
       "      return new Promise(function(resolve, reject) {\n",
       "        var s = document.createElement('script');\n",
       "        s.src = paths[lib];\n",
       "        s.async = true;\n",
       "        s.onload = () => resolve(paths[lib]);\n",
       "        s.onerror = () => reject(`Error loading script: ${paths[lib]}`);\n",
       "        document.getElementsByTagName(\"head\")[0].appendChild(s);\n",
       "      });\n",
       "    }\n",
       "\n",
       "    function showError(err) {\n",
       "      outputDiv.innerHTML = `<div class=\"error\" style=\"color:red;\">${err}</div>`;\n",
       "      throw err;\n",
       "    }\n",
       "\n",
       "    function displayChart(vegaEmbed) {\n",
       "      vegaEmbed(outputDiv, spec, embedOpt)\n",
       "        .catch(err => showError(`Javascript Error: ${err.message}<br>This usually means there's a typo in your chart specification. See the javascript console for the full traceback.`));\n",
       "    }\n",
       "\n",
       "    if(typeof define === \"function\" && define.amd) {\n",
       "      requirejs.config({paths});\n",
       "      require([\"vega-embed\"], displayChart, err => showError(`Error loading script: ${err.message}`));\n",
       "    } else if (typeof vegaEmbed === \"function\") {\n",
       "      displayChart(vegaEmbed);\n",
       "    } else {\n",
       "      loadScript(\"vega\")\n",
       "        .then(() => loadScript(\"vega-lite\"))\n",
       "        .then(() => loadScript(\"vega-embed\"))\n",
       "        .catch(showError)\n",
       "        .then(() => displayChart(vegaEmbed));\n",
       "    }\n",
       "  })({\"config\": {\"view\": {\"continuousWidth\": 400, \"continuousHeight\": 300}}, \"data\": {\"name\": \"data-0ac38feb437d59a0e4fc285a5778e3ee\"}, \"mark\": {\"type\": \"circle\", \"size\": 60}, \"encoding\": {\"tooltip\": [{\"type\": \"nominal\", \"field\": \"Sample\"}], \"x\": {\"type\": \"quantitative\", \"field\": \"PC 1\"}, \"y\": {\"type\": \"quantitative\", \"field\": \"PC 2\"}}, \"selection\": {\"selector017\": {\"type\": \"interval\", \"bind\": \"scales\", \"encodings\": [\"x\", \"y\"]}}, \"$schema\": \"https://vega.github.io/schema/vega-lite/v4.0.0.json\", \"datasets\": {\"data-0ac38feb437d59a0e4fc285a5778e3ee\": [{\"PC 1\": 2.35799451004138, \"PC 2\": 5.131405849057022e-17, \"Sample\": \"sample1\"}, {\"PC 1\": -2.3579945100413795, \"PC 2\": 5.1314058490570234e-17, \"Sample\": \"sample2\"}]}}, {\"mode\": \"vega-lite\"});\n",
       "</script>"
      ],
      "text/plain": [
       "alt.Chart(...)"
      ]
     },
     "execution_count": 268,
     "metadata": {},
     "output_type": "execute_result"
    }
   ],
   "source": [
    "pca_data= pd.DataFrame()\n",
    "pca_data['PC 1']= transformed_data[:,0]\n",
    "pca_data['PC 2']= transformed_data[:,1]\n",
    "pca_data['Sample']= data.index\n",
    "\n",
    "\n",
    "\n",
    "alt.Chart(pca_data).mark_circle(size=60).encode(\n",
    "    x='PC 1',\n",
    "    y='PC 2',\n",
    "    tooltip=['Sample' ]\n",
    ").interactive()\n"
   ]
  },
  {
   "cell_type": "markdown",
   "metadata": {},
   "source": [
    "# Relative abundance\n",
    "\n",
    "\n",
    "For the relative abundance we take the coverage over the genome not the raw counts. This inmplicit normalizes for genome size. The coverage is calculated as the median of the coverage values calculated in 1kb blocks."
   ]
  },
  {
   "cell_type": "code",
   "execution_count": 322,
   "metadata": {},
   "outputs": [
    {
     "data": {
      "text/html": [
       "<div>\n",
       "<style scoped>\n",
       "    .dataframe tbody tr th:only-of-type {\n",
       "        vertical-align: middle;\n",
       "    }\n",
       "\n",
       "    .dataframe tbody tr th {\n",
       "        vertical-align: top;\n",
       "    }\n",
       "\n",
       "    .dataframe thead th {\n",
       "        text-align: right;\n",
       "    }\n",
       "</style>\n",
       "<table border=\"1\" class=\"dataframe\">\n",
       "  <thead>\n",
       "    <tr style=\"text-align: right;\">\n",
       "      <th></th>\n",
       "      <th>MAG1</th>\n",
       "      <th>MAG2</th>\n",
       "      <th>MAG3</th>\n",
       "    </tr>\n",
       "  </thead>\n",
       "  <tbody>\n",
       "    <tr>\n",
       "      <th>sample1</th>\n",
       "      <td>127.250</td>\n",
       "      <td>5.65</td>\n",
       "      <td>0.000</td>\n",
       "    </tr>\n",
       "    <tr>\n",
       "      <th>sample2</th>\n",
       "      <td>12.675</td>\n",
       "      <td>56.66</td>\n",
       "      <td>11.865</td>\n",
       "    </tr>\n",
       "  </tbody>\n",
       "</table>\n",
       "</div>"
      ],
      "text/plain": [
       "            MAG1   MAG2    MAG3\n",
       "sample1  127.250   5.65   0.000\n",
       "sample2   12.675  56.66  11.865"
      ]
     },
     "execution_count": 322,
     "metadata": {},
     "output_type": "execute_result"
    }
   ],
   "source": [
    "D = pd.read_table(f'{working_dir}/genomes/counts/median_coverage_genomes.tsv',index_col=0)\n",
    "D.head()"
   ]
  },
  {
   "cell_type": "code",
   "execution_count": 323,
   "metadata": {},
   "outputs": [],
   "source": [
    "#calculate relative abundance\n",
    "\n",
    "relab = (D.T/D.sum(1)).T"
   ]
  },
  {
   "cell_type": "code",
   "execution_count": 324,
   "metadata": {},
   "outputs": [
    {
     "data": {
      "text/plain": [
       "Text(0, 0.5, 'Abundance [relab]')"
      ]
     },
     "execution_count": 324,
     "metadata": {},
     "output_type": "execute_result"
    },
    {
     "data": {
      "image/png": "[encoded data removed]",
      "text/plain": [
       "<Figure size 720x360 with 1 Axes>"
      ]
     },
     "metadata": {
      "image/png": {
       "height": 449,
       "width": 608
      },
      "needs_background": "light"
     },
     "output_type": "display_data"
    }
   ],
   "source": [
    "# get most abundant genomes\n",
    "\n",
    "counts_per_genome= relab.sum().sort_values()\n",
    "ax= counts_per_genome[-10:].plot.bar(figsize=(10,5))\n",
    "\n",
    "_= ax.set_xticklabels(Labels.loc[counts_per_genome.index[-10:]])\n",
    "ax.set_title('Most abundant genomes')\n",
    "ax.set_ylabel('Abundance [relab]')"
   ]
  },
  {
   "cell_type": "code",
   "execution_count": 325,
   "metadata": {},
   "outputs": [
    {
     "data": {
      "image/png": "[encoded data removed]",
      "text/plain": [
       "<Figure size 432x288 with 1 Axes>"
      ]
     },
     "metadata": {
      "image/png": {
       "height": 285,
       "width": 547
      },
      "needs_background": "light"
     },
     "output_type": "display_data"
    }
   ],
   "source": [
    "# Typical bar chart at specific level\n",
    "level='family'\n",
    "\n",
    "grouped_data =relab.groupby(Tax[level],axis=1).sum()\n",
    "\n",
    "ax= BarPlot(grouped_data)\n",
    "\n",
    "ax.legend_.set_title(level,{'weight':'bold'})\n"
   ]
  },
  {
   "cell_type": "markdown",
   "metadata": {},
   "source": [
    "# Functional annotation\n"
   ]
  },
  {
   "cell_type": "code",
   "execution_count": 1,
   "metadata": {},
   "outputs": [
    {
     "ename": "NameError",
     "evalue": "name 'pd' is not defined",
     "output_type": "error",
     "traceback": [
      "\u001b[0;31m---------------------------------------------------------------------------\u001b[0m",
      "\u001b[0;31mNameError\u001b[0m                                 Traceback (most recent call last)",
      "\u001b[0;32m<ipython-input-1-82c5b52ff672>\u001b[0m in \u001b[0;36m<module>\u001b[0;34m\u001b[0m\n\u001b[1;32m      1\u001b[0m \u001b[0;31m#CAZy\u001b[0m\u001b[0;34m\u001b[0m\u001b[0;34m\u001b[0m\u001b[0;34m\u001b[0m\u001b[0m\n\u001b[0;32m----> 2\u001b[0;31m \u001b[0mCAZy_annotations_genome\u001b[0m\u001b[0;34m=\u001b[0m \u001b[0mpd\u001b[0m\u001b[0;34m.\u001b[0m\u001b[0mread_table\u001b[0m\u001b[0;34m(\u001b[0m\u001b[0;34mf'{working_dir}/genomes/annotations/CAZy.tsv'\u001b[0m\u001b[0;34m,\u001b[0m\u001b[0mindex_col\u001b[0m\u001b[0;34m=\u001b[0m\u001b[0;36m0\u001b[0m\u001b[0;34m)\u001b[0m\u001b[0;34m\u001b[0m\u001b[0;34m\u001b[0m\u001b[0m\n\u001b[0m\u001b[1;32m      3\u001b[0m \u001b[0mCAZy_presence\u001b[0m\u001b[0;34m=\u001b[0m \u001b[0;34m(\u001b[0m\u001b[0mCAZy_annotations_genome\u001b[0m\u001b[0;34m>\u001b[0m\u001b[0;36m0\u001b[0m\u001b[0;34m)\u001b[0m\u001b[0;34m.\u001b[0m\u001b[0mastype\u001b[0m\u001b[0;34m(\u001b[0m\u001b[0mint\u001b[0m\u001b[0;34m)\u001b[0m\u001b[0;34m\u001b[0m\u001b[0;34m\u001b[0m\u001b[0m\n\u001b[1;32m      4\u001b[0m \u001b[0mCAZy_presence\u001b[0m\u001b[0;34m.\u001b[0m\u001b[0mhead\u001b[0m\u001b[0;34m(\u001b[0m\u001b[0;34m)\u001b[0m\u001b[0;34m\u001b[0m\u001b[0;34m\u001b[0m\u001b[0m\n\u001b[1;32m      5\u001b[0m \u001b[0;34m\u001b[0m\u001b[0m\n",
      "\u001b[0;31mNameError\u001b[0m: name 'pd' is not defined"
     ]
    }
   ],
   "source": [
    "#CAZy\n",
    "CAZy_annotations_genome= pd.read_table(f'{working_dir}/genomes/annotations/CAZy.tsv',index_col=0)\n",
    "CAZy_presence= (CAZy_annotations_genome>0).astype(int)\n",
    "CAZy_presence.head()\n",
    "\n",
    "\n",
    "function_relab = relab @ CAZy_presence\n",
    "\n",
    "sns.clustermap(function_relab)\n",
    "\n",
    "function_relab.head()"
   ]
  },
  {
   "cell_type": "code",
   "execution_count": 2,
   "metadata": {},
   "outputs": [
    {
     "ename": "NameError",
     "evalue": "name 'pd' is not defined",
     "output_type": "error",
     "traceback": [
      "\u001b[0;31m---------------------------------------------------------------------------\u001b[0m",
      "\u001b[0;31mNameError\u001b[0m                                 Traceback (most recent call last)",
      "\u001b[0;32m<ipython-input-2-e6a246dcd8d2>\u001b[0m in \u001b[0;36m<module>\u001b[0;34m\u001b[0m\n\u001b[1;32m      1\u001b[0m \u001b[0;31m#Kegg orthologs\u001b[0m\u001b[0;34m\u001b[0m\u001b[0;34m\u001b[0m\u001b[0;34m\u001b[0m\u001b[0m\n\u001b[1;32m      2\u001b[0m \u001b[0;34m\u001b[0m\u001b[0m\n\u001b[0;32m----> 3\u001b[0;31m \u001b[0mKegg_annotations_genome\u001b[0m\u001b[0;34m=\u001b[0m \u001b[0mpd\u001b[0m\u001b[0;34m.\u001b[0m\u001b[0mread_table\u001b[0m\u001b[0;34m(\u001b[0m\u001b[0;34mf'{working_dir}/genomes/annotations/KO.tsv'\u001b[0m\u001b[0;34m,\u001b[0m\u001b[0mindex_col\u001b[0m\u001b[0;34m=\u001b[0m\u001b[0;36m0\u001b[0m\u001b[0;34m)\u001b[0m\u001b[0;34m\u001b[0m\u001b[0;34m\u001b[0m\u001b[0m\n\u001b[0m\u001b[1;32m      4\u001b[0m \u001b[0mKegg_presence\u001b[0m\u001b[0;34m=\u001b[0m \u001b[0;34m(\u001b[0m\u001b[0mKegg_annotations_genome\u001b[0m\u001b[0;34m>\u001b[0m\u001b[0;36m0\u001b[0m\u001b[0;34m)\u001b[0m\u001b[0;34m.\u001b[0m\u001b[0mastype\u001b[0m\u001b[0;34m(\u001b[0m\u001b[0mint\u001b[0m\u001b[0;34m)\u001b[0m\u001b[0;34m\u001b[0m\u001b[0;34m\u001b[0m\u001b[0m\n\u001b[1;32m      5\u001b[0m \u001b[0mKegg_presence\u001b[0m\u001b[0;34m.\u001b[0m\u001b[0mhead\u001b[0m\u001b[0;34m(\u001b[0m\u001b[0;34m)\u001b[0m\u001b[0;34m\u001b[0m\u001b[0;34m\u001b[0m\u001b[0m\n",
      "\u001b[0;31mNameError\u001b[0m: name 'pd' is not defined"
     ]
    }
   ],
   "source": [
    "#Kegg orthologs\n",
    "\n",
    "Kegg_annotations_genome= pd.read_table(f'{working_dir}/genomes/annotations/KO.tsv',index_col=0)\n",
    "Kegg_presence= (Kegg_annotations_genome>0).astype(int)\n",
    "Kegg_presence.head()\n",
    "\n",
    "\n",
    "function_relab = relab @ Kegg_presence\n",
    "\n",
    "sns.clustermap(function_relab)\n",
    "\n",
    "function_relab.head()"
   ]
  },
  {
   "cell_type": "code",
   "execution_count": 331,
   "metadata": {},
   "outputs": [
    {
     "data": {
      "text/html": [
       "<div>\n",
       "<style scoped>\n",
       "    .dataframe tbody tr th:only-of-type {\n",
       "        vertical-align: middle;\n",
       "    }\n",
       "\n",
       "    .dataframe tbody tr th {\n",
       "        vertical-align: top;\n",
       "    }\n",
       "\n",
       "    .dataframe thead th {\n",
       "        text-align: right;\n",
       "    }\n",
       "</style>\n",
       "<table border=\"1\" class=\"dataframe\">\n",
       "  <thead>\n",
       "    <tr style=\"text-align: right;\">\n",
       "      <th></th>\n",
       "      <th>CBM48</th>\n",
       "      <th>CBM50</th>\n",
       "      <th>CE1</th>\n",
       "      <th>GH13</th>\n",
       "      <th>GH23</th>\n",
       "      <th>GH31</th>\n",
       "      <th>GH32</th>\n",
       "      <th>GH33</th>\n",
       "      <th>GH37</th>\n",
       "      <th>GH5</th>\n",
       "      <th>...</th>\n",
       "      <th>GH66</th>\n",
       "      <th>GH68</th>\n",
       "      <th>GH77</th>\n",
       "      <th>GH9</th>\n",
       "      <th>GT1</th>\n",
       "      <th>GT2</th>\n",
       "      <th>GT28</th>\n",
       "      <th>GT35</th>\n",
       "      <th>GT4</th>\n",
       "      <th>GT51</th>\n",
       "    </tr>\n",
       "  </thead>\n",
       "  <tbody>\n",
       "    <tr>\n",
       "      <th>sample1</th>\n",
       "      <td>1.000000</td>\n",
       "      <td>0.042513</td>\n",
       "      <td>0.042513</td>\n",
       "      <td>1.000000</td>\n",
       "      <td>1.000000</td>\n",
       "      <td>0.957487</td>\n",
       "      <td>0.042513</td>\n",
       "      <td>0.957487</td>\n",
       "      <td>0.957487</td>\n",
       "      <td>0.957487</td>\n",
       "      <td>...</td>\n",
       "      <td>0.042513</td>\n",
       "      <td>0.042513</td>\n",
       "      <td>0.042513</td>\n",
       "      <td>0.957487</td>\n",
       "      <td>0.042513</td>\n",
       "      <td>0.042513</td>\n",
       "      <td>0.042513</td>\n",
       "      <td>0.042513</td>\n",
       "      <td>0.042513</td>\n",
       "      <td>0.042513</td>\n",
       "    </tr>\n",
       "    <tr>\n",
       "      <th>sample2</th>\n",
       "      <td>0.853879</td>\n",
       "      <td>0.697783</td>\n",
       "      <td>0.697783</td>\n",
       "      <td>0.853879</td>\n",
       "      <td>0.853879</td>\n",
       "      <td>0.156096</td>\n",
       "      <td>0.697783</td>\n",
       "      <td>0.156096</td>\n",
       "      <td>0.156096</td>\n",
       "      <td>0.156096</td>\n",
       "      <td>...</td>\n",
       "      <td>0.697783</td>\n",
       "      <td>0.697783</td>\n",
       "      <td>0.697783</td>\n",
       "      <td>0.156096</td>\n",
       "      <td>0.697783</td>\n",
       "      <td>0.697783</td>\n",
       "      <td>0.697783</td>\n",
       "      <td>0.697783</td>\n",
       "      <td>0.697783</td>\n",
       "      <td>0.697783</td>\n",
       "    </tr>\n",
       "  </tbody>\n",
       "</table>\n",
       "<p>2 rows × 21 columns</p>\n",
       "</div>"
      ],
      "text/plain": [
       "            CBM48     CBM50       CE1      GH13      GH23      GH31      GH32  \\\n",
       "sample1  1.000000  0.042513  0.042513  1.000000  1.000000  0.957487  0.042513   \n",
       "sample2  0.853879  0.697783  0.697783  0.853879  0.853879  0.156096  0.697783   \n",
       "\n",
       "             GH33      GH37       GH5  ...      GH66      GH68      GH77  \\\n",
       "sample1  0.957487  0.957487  0.957487  ...  0.042513  0.042513  0.042513   \n",
       "sample2  0.156096  0.156096  0.156096  ...  0.697783  0.697783  0.697783   \n",
       "\n",
       "              GH9       GT1       GT2      GT28      GT35       GT4      GT51  \n",
       "sample1  0.957487  0.042513  0.042513  0.042513  0.042513  0.042513  0.042513  \n",
       "sample2  0.156096  0.697783  0.697783  0.697783  0.697783  0.697783  0.697783  \n",
       "\n",
       "[2 rows x 21 columns]"
      ]
     },
     "execution_count": 331,
     "metadata": {},
     "output_type": "execute_result"
    }
   ],
   "source": []
  },
  {
   "cell_type": "code",
   "execution_count": 333,
   "metadata": {},
   "outputs": [
    {
     "data": {
      "text/plain": [
       "K00844                                   HK; hexokinase\n",
       "K12407                                 GCK; glucokinase\n",
       "K00845                                 glk; glucokinase\n",
       "K01810          GPI, pgi; glucose-6-phosphate isomerase\n",
       "K06859    pgi1; glucose-6-phosphate isomerase, archaeal\n",
       "Name: Name, dtype: object"
      ]
     },
     "execution_count": 333,
     "metadata": {},
     "output_type": "execute_result"
    }
   ],
   "source": [
    "# keggnames\n",
    "\n",
    "KO_names= get_kegg_names(\"../data/KO_names.json\")\n",
    "\n",
    "KO_names.head()"
   ]
  },
  {
   "cell_type": "code",
   "execution_count": null,
   "metadata": {},
   "outputs": [],
   "source": []
  }
 ],
 "metadata": {
  "kernelspec": {
   "display_name": "Python 3",
   "language": "python",
   "name": "python3"
  },
  "language_info": {
   "codemirror_mode": {
    "name": "ipython",
    "version": 3
   },
   "file_extension": ".py",
   "mimetype": "text/x-python",
   "name": "python",
   "nbconvert_exporter": "python",
   "pygments_lexer": "ipython3",
   "version": "3.6.7"
  }
 },
 "nbformat": 4,
 "nbformat_minor": 4
}
